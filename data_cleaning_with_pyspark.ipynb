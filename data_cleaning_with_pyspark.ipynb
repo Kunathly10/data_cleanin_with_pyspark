{
 "cells": [
  {
   "cell_type": "code",
   "execution_count": 1,
   "metadata": {},
   "outputs": [],
   "source": [
    "from pyspark.sql import SparkSession\n",
    "\n",
    "spark = SparkSession.builder.appName('rheeza').getOrCreate()"
   ]
  },
  {
   "cell_type": "markdown",
   "metadata": {},
   "source": [
    "## Understand the Dataset"
   ]
  },
  {
   "cell_type": "code",
   "execution_count": 2,
   "metadata": {},
   "outputs": [],
   "source": [
    "trials_df = spark.read.json('dataset.json', multiLine=True) # read json file"
   ]
  },
  {
   "cell_type": "code",
   "execution_count": 3,
   "metadata": {},
   "outputs": [
    {
     "name": "stdout",
     "output_type": "stream",
     "text": [
      "+----------------+--------------------+---------+-----------------+-------------------+------------------------------+--------------------+\n",
      "|ageofparticipant|           clinician|drug_used|experimentenddate|experimentstartdate|noofhourspassedatfirstreaction|              result|\n",
      "+----------------+--------------------+---------+-----------------+-------------------+------------------------------+--------------------+\n",
      "|              19|{Ontario, Saul, t...|  Placebo|    1619827200000|      1617235200000|                            52|{BP normalized, r...|\n",
      "|              14|{Ontario, Saul, n...| Naproxen|    1619827200000|      1617235200000|                            78|    {Follow-up, N/A}|\n",
      "|              17|{Ontario, Saul, n...|  Placebo|    1619827200000|      1617235200000|                            14|    {Follow-up, N/A}|\n",
      "|              18|{Ontario, Will, n...| Naproxen|    1619827200000|      1617235200000|                            14|{BP normalized, N/A}|\n",
      "|              17|{Ontario, Patrick...| Naproxen|    1619827200000|      1617235200000|                            22|{No effect, rashe...|\n",
      "+----------------+--------------------+---------+-----------------+-------------------+------------------------------+--------------------+\n",
      "only showing top 5 rows\n",
      "\n"
     ]
    }
   ],
   "source": [
    "trials_df.show(5)"
   ]
  },
  {
   "cell_type": "code",
   "execution_count": 4,
   "metadata": {},
   "outputs": [
    {
     "name": "stdout",
     "output_type": "stream",
     "text": [
      "root\n",
      " |-- ageofparticipant: long (nullable = true)\n",
      " |-- clinician: struct (nullable = true)\n",
      " |    |-- branch: string (nullable = true)\n",
      " |    |-- name: string (nullable = true)\n",
      " |    |-- role: string (nullable = true)\n",
      " |-- drug_used: string (nullable = true)\n",
      " |-- experimentenddate: string (nullable = true)\n",
      " |-- experimentstartdate: string (nullable = true)\n",
      " |-- noofhourspassedatfirstreaction: long (nullable = true)\n",
      " |-- result: struct (nullable = true)\n",
      " |    |-- conclusion: string (nullable = true)\n",
      " |    |-- sideeffectsonparticipant: string (nullable = true)\n",
      "\n"
     ]
    }
   ],
   "source": [
    "trials_df.printSchema() # view schema"
   ]
  },
  {
   "cell_type": "code",
   "execution_count": 5,
   "metadata": {},
   "outputs": [
    {
     "data": {
      "text/plain": [
       "['ageofparticipant',\n",
       " 'clinician',\n",
       " 'drug_used',\n",
       " 'experimentenddate',\n",
       " 'experimentstartdate',\n",
       " 'noofhourspassedatfirstreaction',\n",
       " 'result']"
      ]
     },
     "execution_count": 5,
     "metadata": {},
     "output_type": "execute_result"
    }
   ],
   "source": [
    "trials_df.columns"
   ]
  },
  {
   "cell_type": "code",
   "execution_count": 6,
   "metadata": {},
   "outputs": [],
   "source": [
    "columns = ['ageofparticipant',\n",
    " 'clinician.branch',\n",
    " 'clinician.name',\n",
    " 'clinician.role',\n",
    " 'drug_used',\n",
    " 'experimentenddate',\n",
    " 'experimentstartdate',\n",
    " 'noofhourspassedatfirstreaction',\n",
    " 'result.conclusion',\n",
    " 'result.sideeffectsonparticipant'\n",
    " ] "
   ]
  },
  {
   "cell_type": "code",
   "execution_count": 7,
   "metadata": {},
   "outputs": [
    {
     "name": "stdout",
     "output_type": "stream",
     "text": [
      "+----------------+-------+-------+---------+---------+-----------------+-------------------+------------------------------+-------------+------------------------+\n",
      "|ageofparticipant| branch|   name|     role|drug_used|experimentenddate|experimentstartdate|noofhourspassedatfirstreaction|   conclusion|sideeffectsonparticipant|\n",
      "+----------------+-------+-------+---------+---------+-----------------+-------------------+------------------------------+-------------+------------------------+\n",
      "|              19|Ontario|   Saul|therapist|  Placebo|    1619827200000|      1617235200000|                            52|BP normalized|          rashes on neck|\n",
      "|              14|Ontario|   Saul|    nurse| Naproxen|    1619827200000|      1617235200000|                            78|    Follow-up|                     N/A|\n",
      "|              17|Ontario|   Saul|    nurse|  Placebo|    1619827200000|      1617235200000|                            14|    Follow-up|                     N/A|\n",
      "|              18|Ontario|   Will|    nurse| Naproxen|    1619827200000|      1617235200000|                            14|BP normalized|                     N/A|\n",
      "|              17|Ontario|Patrick|   doctor| Naproxen|    1619827200000|      1617235200000|                            22|    No effect|          rashes on neck|\n",
      "+----------------+-------+-------+---------+---------+-----------------+-------------------+------------------------------+-------------+------------------------+\n",
      "only showing top 5 rows\n",
      "\n"
     ]
    }
   ],
   "source": [
    "trials_df.select(columns).show(5)"
   ]
  },
  {
   "cell_type": "code",
   "execution_count": 8,
   "metadata": {},
   "outputs": [],
   "source": [
    "from pyspark.sql import functions as fn"
   ]
  },
  {
   "cell_type": "code",
   "execution_count": 9,
   "metadata": {},
   "outputs": [
    {
     "name": "stdout",
     "output_type": "stream",
     "text": [
      "+----------------+----------------+--------------+--------------+---------+-----------------+-------------------+------------------------------+-----------------+-------------------------------+\n",
      "|ageofparticipant|clinician.branch|clinician.name|clinician.role|drug_used|experimentenddate|experimentstartdate|noofhourspassedatfirstreaction|result.conclusion|result.sideeffectsonparticipant|\n",
      "+----------------+----------------+--------------+--------------+---------+-----------------+-------------------+------------------------------+-----------------+-------------------------------+\n",
      "|               0|               0|             0|           109|        0|                0|                  0|                            73|               53|                              0|\n",
      "+----------------+----------------+--------------+--------------+---------+-----------------+-------------------+------------------------------+-----------------+-------------------------------+\n",
      "\n"
     ]
    }
   ],
   "source": [
    "# counting null values per column\n",
    "\n",
    "trials_df.select([ fn.count(fn.when(fn.col(column).isNull(), column)).alias(column) for column in columns]).show()"
   ]
  },
  {
   "cell_type": "code",
   "execution_count": null,
   "metadata": {},
   "outputs": [],
   "source": []
  },
  {
   "cell_type": "markdown",
   "metadata": {},
   "source": [
    "## Cleaning"
   ]
  },
  {
   "cell_type": "code",
   "execution_count": 10,
   "metadata": {},
   "outputs": [],
   "source": [
    "# flaten df\n",
    "# address null values\n",
    "# rename columns"
   ]
  },
  {
   "cell_type": "code",
   "execution_count": 11,
   "metadata": {},
   "outputs": [
    {
     "name": "stdout",
     "output_type": "stream",
     "text": [
      "root\n",
      " |-- ageofparticipant: long (nullable = true)\n",
      " |-- branch: string (nullable = true)\n",
      " |-- name: string (nullable = true)\n",
      " |-- role: string (nullable = true)\n",
      " |-- drug_used: string (nullable = true)\n",
      " |-- experimentenddate: string (nullable = true)\n",
      " |-- experimentstartdate: string (nullable = true)\n",
      " |-- noofhourspassedatfirstreaction: long (nullable = true)\n",
      " |-- conclusion: string (nullable = true)\n",
      " |-- sideeffectsonparticipant: string (nullable = true)\n",
      "\n"
     ]
    }
   ],
   "source": [
    "# flaten df\n",
    "\n",
    "new_trials_df = trials_df.select(columns)\n",
    "new_trials_df.printSchema()"
   ]
  },
  {
   "cell_type": "code",
   "execution_count": 12,
   "metadata": {},
   "outputs": [
    {
     "name": "stdout",
     "output_type": "stream",
     "text": [
      "+------------------+-------------+--------------+---------------+---------+-------------------+---------------------+------------------------------+-------------+--------------------+\n",
      "|age_of_participant|clinic_branch|head_clinician|assistants_role|drug_used|experiment_end_date|experiment_start_date|hours_passed_at_first_reaction|   conclusion|observed_side_effect|\n",
      "+------------------+-------------+--------------+---------------+---------+-------------------+---------------------+------------------------------+-------------+--------------------+\n",
      "|                19|      Ontario|          Saul|      therapist|  Placebo|      1619827200000|        1617235200000|                            52|BP normalized|      rashes on neck|\n",
      "|                14|      Ontario|          Saul|          nurse| Naproxen|      1619827200000|        1617235200000|                            78|    Follow-up|                 N/A|\n",
      "+------------------+-------------+--------------+---------------+---------+-------------------+---------------------+------------------------------+-------------+--------------------+\n",
      "only showing top 2 rows\n",
      "\n"
     ]
    }
   ],
   "source": [
    "# rename columns\n",
    "new_column_names = {\n",
    "    'ageofparticipant': 'age_of_participant'\n",
    "    , 'branch': 'clinic_branch'\n",
    "    , 'name': 'head_clinician'\n",
    "    , 'role': 'assistants_role'\n",
    "    , 'experimentenddate': 'experiment_end_date'\n",
    "    , 'experimentstartdate': 'experiment_start_date'\n",
    "    , 'noofhourspassedatfirstreaction': 'hours_passed_at_first_reaction'\n",
    "    , 'sideeffectsonparticipant': 'observed_side_effect'\n",
    "}\n",
    "new_trials_df = new_trials_df.withColumnsRenamed(new_column_names)\n",
    "new_trials_df.show(2)"
   ]
  },
  {
   "cell_type": "code",
   "execution_count": 13,
   "metadata": {},
   "outputs": [
    {
     "name": "stdout",
     "output_type": "stream",
     "text": [
      "+-------+------------------+-------------+--------------+---------------+---------+--------------------+---------------------+------------------------------+-------------+--------------------+\n",
      "|summary|age_of_participant|clinic_branch|head_clinician|assistants_role|drug_used| experiment_end_date|experiment_start_date|hours_passed_at_first_reaction|   conclusion|observed_side_effect|\n",
      "+-------+------------------+-------------+--------------+---------------+---------+--------------------+---------------------+------------------------------+-------------+--------------------+\n",
      "|  count|              3586|         3586|          3586|           3477|     3586|                3586|                 3586|                          3513|         3533|                3586|\n",
      "|   mean|17.507250418293363|         null|          null|           null|     null|1.618381578137200...| 1.615813671834913...|             44.89097637346997|         null|                null|\n",
      "| stddev|2.3066401927555233|         null|          null|           null|     null|2.3250351904618263E9| 2.2862846039555306E9|            24.540325490035848|         null|                null|\n",
      "|    min|                14|      Alberta|        Colins|         doctor| Naproxen|       1614643200000|        1612137600000|                             3|BP normalized|                 N/A|\n",
      "|    max|                21|       Quebec|       Windsor|      therapist|  Placebo|       1619827200000|        1617235200000|                            87|    No effect|      rashes on neck|\n",
      "+-------+------------------+-------------+--------------+---------------+---------+--------------------+---------------------+------------------------------+-------------+--------------------+\n",
      "\n"
     ]
    }
   ],
   "source": [
    "new_trials_df.describe().show() "
   ]
  },
  {
   "cell_type": "code",
   "execution_count": 14,
   "metadata": {},
   "outputs": [],
   "source": [
    "# fill columns with null values\n",
    "\n",
    "new_trials_df = new_trials_df.na.fill({'conclusion': 'unknown', 'assistants_role': 'unknown', 'hours_passed_at_first_reaction': 0})"
   ]
  },
  {
   "cell_type": "code",
   "execution_count": 15,
   "metadata": {},
   "outputs": [
    {
     "name": "stdout",
     "output_type": "stream",
     "text": [
      "+-------+------------------+-------------+--------------+---------------+---------+--------------------+---------------------+------------------------------+-------------+--------------------+\n",
      "|summary|age_of_participant|clinic_branch|head_clinician|assistants_role|drug_used| experiment_end_date|experiment_start_date|hours_passed_at_first_reaction|   conclusion|observed_side_effect|\n",
      "+-------+------------------+-------------+--------------+---------------+---------+--------------------+---------------------+------------------------------+-------------+--------------------+\n",
      "|  count|              3586|         3586|          3586|           3586|     3586|                3586|                 3586|                          3586|         3586|                3586|\n",
      "|   mean|17.507250418293363|         null|          null|           null|     null|1.618381578137200...| 1.615813671834913...|              43.9771332961517|         null|                null|\n",
      "| stddev|2.3066401927555233|         null|          null|           null|     null|2.3250351904618263E9| 2.2862846039555306E9|             25.10306856909051|         null|                null|\n",
      "|    min|                14|      Alberta|        Colins|         doctor| Naproxen|       1614643200000|        1612137600000|                             0|BP normalized|                 N/A|\n",
      "|    max|                21|       Quebec|       Windsor|        unknown|  Placebo|       1619827200000|        1617235200000|                            87|      unknown|      rashes on neck|\n",
      "+-------+------------------+-------------+--------------+---------------+---------+--------------------+---------------------+------------------------------+-------------+--------------------+\n",
      "\n"
     ]
    }
   ],
   "source": [
    "new_trials_df.describe().show()"
   ]
  },
  {
   "cell_type": "code",
   "execution_count": 16,
   "metadata": {},
   "outputs": [
    {
     "name": "stdout",
     "output_type": "stream",
     "text": [
      "+------------------+-------------+--------------+---------------+---------+-------------------+---------------------+------------------------------+-------------+--------------------+\n",
      "|age_of_participant|clinic_branch|head_clinician|assistants_role|drug_used|experiment_end_date|experiment_start_date|hours_passed_at_first_reaction|   conclusion|observed_side_effect|\n",
      "+------------------+-------------+--------------+---------------+---------+-------------------+---------------------+------------------------------+-------------+--------------------+\n",
      "|                19|      Ontario|          Saul|      therapist|  Placebo|      1619827200000|        1617235200000|                            52|BP normalized|      rashes on neck|\n",
      "|                14|      Ontario|          Saul|          nurse| Naproxen|      1619827200000|        1617235200000|                            78|    Follow-up|                 N/A|\n",
      "|                17|      Ontario|          Saul|          nurse|  Placebo|      1619827200000|        1617235200000|                            14|    Follow-up|                 N/A|\n",
      "|                18|      Ontario|          Will|          nurse| Naproxen|      1619827200000|        1617235200000|                            14|BP normalized|                 N/A|\n",
      "|                17|      Ontario|       Patrick|         doctor| Naproxen|      1619827200000|        1617235200000|                            22|    No effect|      rashes on neck|\n",
      "+------------------+-------------+--------------+---------------+---------+-------------------+---------------------+------------------------------+-------------+--------------------+\n",
      "only showing top 5 rows\n",
      "\n"
     ]
    }
   ],
   "source": [
    "new_trials_df.show(5)"
   ]
  },
  {
   "cell_type": "markdown",
   "metadata": {},
   "source": [
    "## Data Transformation"
   ]
  },
  {
   "cell_type": "code",
   "execution_count": 17,
   "metadata": {},
   "outputs": [
    {
     "name": "stdout",
     "output_type": "stream",
     "text": [
      "root\n",
      " |-- age_of_participant: long (nullable = true)\n",
      " |-- clinic_branch: string (nullable = true)\n",
      " |-- head_clinician: string (nullable = true)\n",
      " |-- assistants_role: string (nullable = false)\n",
      " |-- drug_used: string (nullable = true)\n",
      " |-- experiment_end_date: string (nullable = true)\n",
      " |-- experiment_start_date: string (nullable = true)\n",
      " |-- hours_passed_at_first_reaction: long (nullable = false)\n",
      " |-- conclusion: string (nullable = false)\n",
      " |-- observed_side_effect: string (nullable = true)\n",
      "\n"
     ]
    }
   ],
   "source": [
    "new_trials_df.printSchema()"
   ]
  },
  {
   "cell_type": "markdown",
   "metadata": {},
   "source": [
    "#### Tansforming the experiment_end_date and experiment_start_date"
   ]
  },
  {
   "cell_type": "code",
   "execution_count": 18,
   "metadata": {},
   "outputs": [],
   "source": [
    "from pyspark.sql import types as dtypes\n",
    "from pyspark.sql.functions import col, from_unixtime\n",
    "from pyspark.sql.types import TimestampType"
   ]
  },
  {
   "cell_type": "code",
   "execution_count": 19,
   "metadata": {},
   "outputs": [],
   "source": [
    "new_trials_df = new_trials_df\\\n",
    "    .withColumn('start_ts', fn.from_unixtime(fn.col('experiment_start_date').cast(dtypes.LongType())/1000, 'yyyy-MM-dd HH:mm:ss'))\\\n",
    "    .withColumn('start_ts', fn.col('start_ts').cast(dtypes.TimestampType()))\\\n",
    "            .withColumn('end_ts', fn.from_unixtime(fn.col('experiment_end_date').cast(dtypes.LongType())/1000, 'yyyy-MM-dd HH:mm:ss'))\\\n",
    "            .withColumn('end_ts', fn.col('end_ts').cast(dtypes.TimestampType()))"
   ]
  },
  {
   "cell_type": "code",
   "execution_count": 20,
   "metadata": {},
   "outputs": [
    {
     "name": "stdout",
     "output_type": "stream",
     "text": [
      "+------------------+-------------+--------------+---------------+---------+-------------------+---------------------+------------------------------+-------------+--------------------+-------------------+-------------------+\n",
      "|age_of_participant|clinic_branch|head_clinician|assistants_role|drug_used|experiment_end_date|experiment_start_date|hours_passed_at_first_reaction|   conclusion|observed_side_effect|           start_ts|             end_ts|\n",
      "+------------------+-------------+--------------+---------------+---------+-------------------+---------------------+------------------------------+-------------+--------------------+-------------------+-------------------+\n",
      "|                19|      Ontario|          Saul|      therapist|  Placebo|      1619827200000|        1617235200000|                            52|BP normalized|      rashes on neck|2021-04-01 02:00:00|2021-05-01 02:00:00|\n",
      "|                14|      Ontario|          Saul|          nurse| Naproxen|      1619827200000|        1617235200000|                            78|    Follow-up|                 N/A|2021-04-01 02:00:00|2021-05-01 02:00:00|\n",
      "|                17|      Ontario|          Saul|          nurse|  Placebo|      1619827200000|        1617235200000|                            14|    Follow-up|                 N/A|2021-04-01 02:00:00|2021-05-01 02:00:00|\n",
      "|                18|      Ontario|          Will|          nurse| Naproxen|      1619827200000|        1617235200000|                            14|BP normalized|                 N/A|2021-04-01 02:00:00|2021-05-01 02:00:00|\n",
      "|                17|      Ontario|       Patrick|         doctor| Naproxen|      1619827200000|        1617235200000|                            22|    No effect|      rashes on neck|2021-04-01 02:00:00|2021-05-01 02:00:00|\n",
      "|                17|      Ontario|       Patrick|         doctor| Naproxen|      1619827200000|        1617235200000|                             4|    Follow-up|           headaches|2021-04-01 02:00:00|2021-05-01 02:00:00|\n",
      "|                20|      Ontario|          Saul|         doctor| Naproxen|      1619827200000|        1617235200000|                            85|    No effect|           headaches|2021-04-01 02:00:00|2021-05-01 02:00:00|\n",
      "|                15|      Ontario|          Saul|         doctor|  Placebo|      1619827200000|        1617235200000|                            49|    No effect|      rashes on neck|2021-04-01 02:00:00|2021-05-01 02:00:00|\n",
      "|                14|      Ontario|          Will|      therapist|  Placebo|      1619827200000|        1617235200000|                            84|    Follow-up|           headaches|2021-04-01 02:00:00|2021-05-01 02:00:00|\n",
      "|                20|      Ontario|        Colins|          nurse|  Placebo|      1619827200000|        1617235200000|                            66|    Follow-up|       arms and feet|2021-04-01 02:00:00|2021-05-01 02:00:00|\n",
      "|                18|      Ontario|       Patrick|         doctor|  Placebo|      1619827200000|        1617235200000|                            40|BP normalized|         light fever|2021-04-01 02:00:00|2021-05-01 02:00:00|\n",
      "|                17|      Ontario|       Patrick|         doctor|  Placebo|      1619827200000|        1617235200000|                            72|BP normalized|       arms and feet|2021-04-01 02:00:00|2021-05-01 02:00:00|\n",
      "|                19|      Ontario|        Colins|      therapist|  Placebo|      1619827200000|        1617235200000|                            36|    No effect|                 N/A|2021-04-01 02:00:00|2021-05-01 02:00:00|\n",
      "|                15|      Ontario|        Colins|      therapist| Naproxen|      1619827200000|        1617235200000|                            12|BP normalized|           headaches|2021-04-01 02:00:00|2021-05-01 02:00:00|\n",
      "|                19|      Ontario|          Saul|      therapist|  Placebo|      1619827200000|        1617235200000|                            14|    No effect|                 N/A|2021-04-01 02:00:00|2021-05-01 02:00:00|\n",
      "|                16|      Ontario|        Colins|          nurse|  Placebo|      1619827200000|        1617235200000|                            63|BP normalized|                 N/A|2021-04-01 02:00:00|2021-05-01 02:00:00|\n",
      "|                16|      Ontario|          Saul|          nurse| Naproxen|      1619827200000|        1617235200000|                            70|BP normalized|           headaches|2021-04-01 02:00:00|2021-05-01 02:00:00|\n",
      "|                18|      Ontario|          Will|      therapist| Naproxen|      1619827200000|        1617235200000|                            10|BP normalized|                 N/A|2021-04-01 02:00:00|2021-05-01 02:00:00|\n",
      "|                16|      Ontario|       Patrick|          nurse| Naproxen|      1619827200000|        1617235200000|                            11|    Follow-up|      rashes on neck|2021-04-01 02:00:00|2021-05-01 02:00:00|\n",
      "|                14|      Ontario|       Patrick|         doctor| Naproxen|      1619827200000|        1617235200000|                            32|    No effect|         light fever|2021-04-01 02:00:00|2021-05-01 02:00:00|\n",
      "+------------------+-------------+--------------+---------------+---------+-------------------+---------------------+------------------------------+-------------+--------------------+-------------------+-------------------+\n",
      "only showing top 20 rows\n",
      "\n"
     ]
    }
   ],
   "source": [
    "\n",
    "# Show the DataFrame with the converted timestamp columns\n",
    "new_trials_df.show()"
   ]
  },
  {
   "cell_type": "code",
   "execution_count": 21,
   "metadata": {},
   "outputs": [
    {
     "data": {
      "text/plain": [
       "\"# Convert 'experiment_start_date' to a timestamp column\\nnew_trials_df = new_trials_df.withColumn(\\n    'start_ts',\\n    from_unixtime(col('experiment_start_date') / 1000, 'yyyy-MM-dd HH:mm:ss').cast(TimestampType())\\n)\\n\\n# Convert 'experiment_end_date' to a timestamp column\\nnew_trials_df = new_trials_df.withColumn(\\n    'end_ts',\\n    from_unixtime(col('experiment_end_date') / 1000, 'yyyy-MM-dd HH:mm:ss').cast(TimestampType())\\n)\\n\\n# Show the DataFrame with the converted timestamp columns\\nnew_trials_df.show()\""
      ]
     },
     "execution_count": 21,
     "metadata": {},
     "output_type": "execute_result"
    }
   ],
   "source": [
    "'''# Convert 'experiment_start_date' to a timestamp column\n",
    "new_trials_df = new_trials_df.withColumn(\n",
    "    'start_ts',\n",
    "    from_unixtime(col('experiment_start_date') / 1000, 'yyyy-MM-dd HH:mm:ss').cast(TimestampType())\n",
    ")\n",
    "\n",
    "# Convert 'experiment_end_date' to a timestamp column\n",
    "new_trials_df = new_trials_df.withColumn(\n",
    "    'end_ts',\n",
    "    from_unixtime(col('experiment_end_date') / 1000, 'yyyy-MM-dd HH:mm:ss').cast(TimestampType())\n",
    ")\n",
    "\n",
    "# Show the DataFrame with the converted timestamp columns\n",
    "new_trials_df.show()'''"
   ]
  }
 ],
 "metadata": {
  "kernelspec": {
   "display_name": "Python 3",
   "language": "python",
   "name": "python3"
  },
  "language_info": {
   "codemirror_mode": {
    "name": "ipython",
    "version": 3
   },
   "file_extension": ".py",
   "mimetype": "text/x-python",
   "name": "python",
   "nbconvert_exporter": "python",
   "pygments_lexer": "ipython3",
   "version": "3.11.5"
  },
  "orig_nbformat": 4
 },
 "nbformat": 4,
 "nbformat_minor": 2
}
